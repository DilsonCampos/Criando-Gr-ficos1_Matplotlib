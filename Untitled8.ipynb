{
  "nbformat": 4,
  "nbformat_minor": 0,
  "metadata": {
    "colab": {
      "provenance": [],
      "authorship_tag": "ABX9TyNZVwMnLgnzp53AhV8/Qq7U",
      "include_colab_link": true
    },
    "kernelspec": {
      "name": "python3",
      "display_name": "Python 3"
    },
    "language_info": {
      "name": "python"
    }
  },
  "cells": [
    {
      "cell_type": "markdown",
      "metadata": {
        "id": "view-in-github",
        "colab_type": "text"
      },
      "source": [
        "<a href=\"https://colab.research.google.com/github/DilsonCampos/Criando-Gr-ficos1_Matplotlib/blob/main/Untitled8.ipynb\" target=\"_parent\"><img src=\"https://colab.research.google.com/assets/colab-badge.svg\" alt=\"Open In Colab\"/></a>"
      ]
    },
    {
      "cell_type": "code",
      "execution_count": 1,
      "metadata": {
        "colab": {
          "base_uri": "https://localhost:8080/"
        },
        "id": "L35KmMthJzgt",
        "outputId": "dfe80f36-e3ee-498d-e82e-cfac8abcdbf4"
      },
      "outputs": [
        {
          "output_type": "stream",
          "name": "stdout",
          "text": [
            "2.9.2\n"
          ]
        }
      ],
      "source": [
        "import tensorflow as tf\n",
        "print (tf.__version__)  "
      ]
    },
    {
      "cell_type": "code",
      "source": [
        "import numpy as np \n",
        "import matplotlib.pyplot as plt\n",
        "\n",
        "# X is a my features - \n",
        "X = np.array([-7.0, -4.0, -1.0, 2.0, 5.0, 8.0, 11.0, 15.0])\n",
        "\n",
        "# y is a my labels \n",
        "y = np.array([1.0, 5.0, 9.0, 12.0, 15.0, 18.0, 21.0, 23.0])\n",
        "\n",
        "# let's visulaize my data \n",
        "plt.scatter(X, y);\n",
        "plt.title (\"This is our demo data X and y \");\n",
        "plt.xlabel(\"This is our X axis \");\n",
        "plt.ylabel(\"This is our y axis \");"
      ],
      "metadata": {
        "colab": {
          "base_uri": "https://localhost:8080/",
          "height": 295
        },
        "id": "rQ-QxdYmKDZh",
        "outputId": "5c7fa291-63eb-4d9b-9c8b-3b1274d03d33"
      },
      "execution_count": 4,
      "outputs": [
        {
          "output_type": "display_data",
          "data": {
            "text/plain": [
              "<Figure size 432x288 with 1 Axes>"
            ],
            "image/png": "[encoded data removed]"
          },
          "metadata": {
            "needs_background": "light"
          }
        }
      ]
    },
    {
      "cell_type": "code",
      "source": [
        "import numpy as np\n",
        "import matplotlib.pyplot as plt\n",
        "\n",
        "x = np.array ([1, 2, 3, 4, 5, 6, 7, 8])\n",
        "y = np.array ([9, 10, 11, 12, 13, 14, 15, 16])\n",
        "plt.plot(x, y)\n",
        "\n",
        "plt.title(\"Meu primeiro - Gráficos de Números\");\n",
        "plt.xlabel (\"This is my X axis - Primeiro número \");\n",
        "plt.ylabel (\"This is my Y axis - e segundo número\");"
      ],
      "metadata": {
        "colab": {
          "base_uri": "https://localhost:8080/",
          "height": 296
        },
        "id": "UyZSWUgMLcUl",
        "outputId": "22bb8a4e-b9f5-40ad-89fa-a66c402dcd1d"
      },
      "execution_count": 7,
      "outputs": [
        {
          "output_type": "display_data",
          "data": {
            "text/plain": [
              "<Figure size 432x288 with 1 Axes>"
            ],
            "image/png": "[encoded data removed]"
          },
          "metadata": {
            "needs_background": "light"
          }
        }
      ]
    },
    {
      "cell_type": "code",
      "source": [
        "# Set random seed using Tensorflow\n",
        "tf.random.set_seed(42)\n",
        "\n",
        "# Create a model using the Keras Sequential API\n",
        "model = tf.keras.Sequential([\n",
        "  tf.keras.layers.Dense(1)\n",
        "])\n",
        "\n",
        "# Compile the model\n",
        "model.compile(loss=tf.keras.losses.mae, # mae is short for mean absolute error\n",
        "              optimizer=tf.keras.optimizers.SGD(), # SGD is short for stochastic gradient descent\n",
        "              metrics=[\"mae\"])\n",
        "\n",
        "# Fit the model\n",
        "model.fit(tf.expand_dims(X, axis=-1), y, epochs=5)"
      ],
      "metadata": {
        "colab": {
          "base_uri": "https://localhost:8080/"
        },
        "id": "GK1JwwZLNhWk",
        "outputId": "c7736260-e960-4e4e-bbbd-6d9569d08808"
      },
      "execution_count": 8,
      "outputs": [
        {
          "output_type": "stream",
          "name": "stdout",
          "text": [
            "Epoch 1/5\n",
            "1/1 [==============================] - 1s 919ms/step - loss: 10.4335 - mae: 10.4335\n",
            "Epoch 2/5\n",
            "1/1 [==============================] - 0s 11ms/step - loss: 10.2921 - mae: 10.2921\n",
            "Epoch 3/5\n",
            "1/1 [==============================] - 0s 9ms/step - loss: 10.1507 - mae: 10.1507\n",
            "Epoch 4/5\n",
            "1/1 [==============================] - 0s 8ms/step - loss: 10.0093 - mae: 10.0093\n",
            "Epoch 5/5\n",
            "1/1 [==============================] - 0s 12ms/step - loss: 9.8679 - mae: 9.8679\n"
          ]
        },
        {
          "output_type": "execute_result",
          "data": {
            "text/plain": [
              "<keras.callbacks.History at 0x7fee6bfcf040>"
            ]
          },
          "metadata": {},
          "execution_count": 8
        }
      ]
    },
    {
      "cell_type": "code",
      "source": [
        "# First see our X and y data \n",
        "print (\"X is -- \", X)\n",
        "print (\"y is -- \", y)"
      ],
      "metadata": {
        "colab": {
          "base_uri": "https://localhost:8080/"
        },
        "id": "fOUqmEZyOFO-",
        "outputId": "8eb2cc33-3905-44bd-98e5-2f113494ac1f"
      },
      "execution_count": 9,
      "outputs": [
        {
          "output_type": "stream",
          "name": "stdout",
          "text": [
            "X is --  [-7. -4. -1.  2.  5.  8. 11. 15.]\n",
            "y is --  [ 9 10 11 12 13 14 15 16]\n"
          ]
        }
      ]
    }
  ]
}